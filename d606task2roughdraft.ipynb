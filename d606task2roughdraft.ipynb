{
 "cells": [
  {
   "cell_type": "markdown",
   "id": "e9b61d59-506a-47a7-9a10-c720a6f08ac3",
   "metadata": {},
   "source": [
    "# D606 Task 2: Luxury Home Classification Using Random Forest"
   ]
  },
  {
   "cell_type": "markdown",
   "id": "4cbacf11-b5aa-4106-b6cc-0e27dc4c508d",
   "metadata": {},
   "source": [
    "### B1. Propose one question relevant to a real-world organizational situation that you will answer using one of the following classification methods\n",
    "\n",
    "<p>One question that is relevant to a real-world organizational situation that I will answer using the Random Forest classification method is: To what extent do housing features and neighborhood characteristics influence whether a home is classified as luxury, based on a random forest model?</p>"
   ]
  },
  {
   "cell_type": "markdown",
   "id": "c99ca66e-03d6-4241-9612-54669218b2ff",
   "metadata": {},
   "source": [
    "### B2. Define the goals of the data analysis\n",
    "\n",
    "<p>The data analysis has four main goals. The first goal is to build a random forest classification model that can predict whether a home is considered luxury based on its housing features and neighborhood details. The second goal is to identify which features are most important in classifying a home as luxury. The third goal is to evaluate the model’s performance using metrics like accuracy, precision, recall, and F1 score to make sure it works well and is reliable. The fourth goal is to provide real estate agencies with useful insights by showing which property features are most linked to luxury homes, helping them improve marketing and pricing strategies.</p>"
   ]
  },
  {
   "cell_type": "markdown",
   "id": "d1df4e2a-2376-4319-85de-775aac0275f6",
   "metadata": {},
   "source": [
    "### C1. Explain how the classification method you chose analyzes the selected dataset. Include expected outcomes\n",
    "\n",
    "<p>The random forest classification method analyzes the housing dataset by creating many decision trees. Each tree is trained on a random sample of the data, and at each decision point, the tree only looks at a random set of features rather than all of them. This randomness helps the model avoid overfitting and makes it more accurate when predicting new data. The model learns from housing features like square footage, number of bedrooms and bathrooms, and neighborhood details such as crime rate and school rating to classify whether a home is luxury or not.</p>\n",
    "\n",
    "<p>After training, the model predicts the luxury status of new homes based on the patterns it has learned. Each tree makes a prediction, and the final result is based on the majority vote. The model also ranks the importance of each feature, which helps identify which housing or neighborhood factors have the biggest impact on whether a home is considered luxury.</p>\n",
    "\n",
    "<p>There are two expected outcomes when using the random forest classification method on the housing dataset. The first outcome is that the model should accurately classify homes as luxury or non-luxury based on their features, with good results on metrics like accuracy, precision, recall, and F1 score. Second, the analysis should give real estate agencies useful insights into which housing and neighborhood features most influence luxury home classification, helping to improve marketing and pricing strategies.</p>"
   ]
  },
  {
   "cell_type": "markdown",
   "id": "451bb40a-fb43-4f58-9b48-14938fad5d33",
   "metadata": {},
   "source": [
    "### C2. List the packages or libraries you have chosen for Python or R, and justify how each item on the list supports the analysis\n",
    "\n",
    "<p>I used three main Python libraries for the Random Forest classification analysis. First, the pandas library was used to load, clean, and prepare the housing dataset. I also used the to_csv() function from pandas to export the training, validation, and test sets as CSV files. Second, the scikit-learn library provided the RandomForestClassifier() function, which I used to build and train the Random Forest model. Scikit-learn also includes evaluation functions like accuracy_score(), precision_score(), and recall_score(), which I used to measure the model's performance. It also offers tools like GridSearchCV() and StratifiedKFold() for hyperparameter tuning. Third, the NumPy library was used behind the scenes by scikit-learn to perform numerical operations during model training and evaluation.</p>"
   ]
  },
  {
   "cell_type": "markdown",
   "id": "f3526989-b14b-4281-98a3-73f73057b151",
   "metadata": {},
   "source": [
    "### D1. Describe one data preprocessing goal relevant to the classification method from part B1\n",
    "\n",
    "<p>One data preprocessing goal for this classification task is to convert categorical variables into a numerical format so they can be used by the Random Forest model. The dataset includes features like Fireplace, Garage, and HouseColor, which are stored as text values such as \"Yes\", \"No\", or color names. Since Random Forest models only work with numbers, I will use label encoding to convert these text values. This step helps prepare the data so the model can accurately learn patterns from all the features.</p>"
   ]
  },
  {
   "cell_type": "markdown",
   "id": "65b30d93-bc85-49a9-bc11-c166d23431fd",
   "metadata": {},
   "source": [
    "### D2. Identify the initial dataset variables that you will use to perform the analysis for the classification question from part B1, and classify each variable as continuous or categorical\n",
    "\n",
    "<p>The variables that I will use to perform the analysis for the Random Forest classification question from part B1 are: IsLuxury (categorical), Price (continuous), SquareFootage (continuous), NumBathrooms (continuous), BackyardSpace (continuous), CrimeRate (continuous), SchoolRating (continuous), AgeOfHome (continuous), DistanceToCityCenter (continuous), EmploymentRate (continuous), PropertyTaxRate (continuous), RenovationQuality (continuous), LocalAmenities (continuous), TransportAccess (continuous), PreviousSalePrice (continuous), Windows (continuous), Fireplace (categorical), Garage (categorical), and HouseColor (categorical).</p>"
   ]
  },
  {
   "cell_type": "markdown",
   "id": "305b4240-4d25-47fc-9f9c-8874d85a64f8",
   "metadata": {},
   "source": [
    "### D3. Explain each of the steps used to prepare the data for the analysis. Identify the code segment for each step"
   ]
  },
  {
   "cell_type": "code",
   "execution_count": 1,
   "id": "dc1c3aab-1bf9-4df1-87b2-484640150e5f",
   "metadata": {},
   "outputs": [],
   "source": [
    "import pandas as pd\n",
    "\n",
    "#loading the housing dataset\n",
    "df = pd.read_csv('C:/Users/jcaye/Downloads/Housing Information Data.csv')"
   ]
  },
  {
   "cell_type": "code",
   "execution_count": 2,
   "id": "8241f749-bec2-418a-9a1a-25f12738eb30",
   "metadata": {},
   "outputs": [
    {
     "data": {
      "text/html": [
       "<div>\n",
       "<style scoped>\n",
       "    .dataframe tbody tr th:only-of-type {\n",
       "        vertical-align: middle;\n",
       "    }\n",
       "\n",
       "    .dataframe tbody tr th {\n",
       "        vertical-align: top;\n",
       "    }\n",
       "\n",
       "    .dataframe thead th {\n",
       "        text-align: right;\n",
       "    }\n",
       "</style>\n",
       "<table border=\"1\" class=\"dataframe\">\n",
       "  <thead>\n",
       "    <tr style=\"text-align: right;\">\n",
       "      <th></th>\n",
       "      <th>Unnamed: 0</th>\n",
       "      <th>Price</th>\n",
       "      <th>SquareFootage</th>\n",
       "      <th>NumBathrooms</th>\n",
       "      <th>NumBedrooms</th>\n",
       "      <th>BackyardSpace</th>\n",
       "      <th>CrimeRate</th>\n",
       "      <th>SchoolRating</th>\n",
       "      <th>AgeOfHome</th>\n",
       "      <th>DistanceToCityCenter</th>\n",
       "      <th>...</th>\n",
       "      <th>RenovationQuality</th>\n",
       "      <th>LocalAmenities</th>\n",
       "      <th>TransportAccess</th>\n",
       "      <th>Fireplace</th>\n",
       "      <th>HouseColor</th>\n",
       "      <th>Garage</th>\n",
       "      <th>Floors</th>\n",
       "      <th>Windows</th>\n",
       "      <th>PreviousSalePrice</th>\n",
       "      <th>IsLuxury</th>\n",
       "    </tr>\n",
       "  </thead>\n",
       "  <tbody>\n",
       "    <tr>\n",
       "      <th>0</th>\n",
       "      <td>4922</td>\n",
       "      <td>255614.8992</td>\n",
       "      <td>566.62</td>\n",
       "      <td>1.000000</td>\n",
       "      <td>4</td>\n",
       "      <td>779.42</td>\n",
       "      <td>20.56</td>\n",
       "      <td>5.62</td>\n",
       "      <td>39.46</td>\n",
       "      <td>10.08</td>\n",
       "      <td>...</td>\n",
       "      <td>4.93</td>\n",
       "      <td>4.44</td>\n",
       "      <td>4.55</td>\n",
       "      <td>Yes</td>\n",
       "      <td>Blue</td>\n",
       "      <td>No</td>\n",
       "      <td>1</td>\n",
       "      <td>13</td>\n",
       "      <td>181861.54230</td>\n",
       "      <td>0</td>\n",
       "    </tr>\n",
       "    <tr>\n",
       "      <th>1</th>\n",
       "      <td>5009</td>\n",
       "      <td>155586.0947</td>\n",
       "      <td>1472.34</td>\n",
       "      <td>1.000000</td>\n",
       "      <td>2</td>\n",
       "      <td>656.13</td>\n",
       "      <td>15.62</td>\n",
       "      <td>5.63</td>\n",
       "      <td>40.51</td>\n",
       "      <td>7.89</td>\n",
       "      <td>...</td>\n",
       "      <td>4.08</td>\n",
       "      <td>5.56</td>\n",
       "      <td>6.83</td>\n",
       "      <td>No</td>\n",
       "      <td>Green</td>\n",
       "      <td>No</td>\n",
       "      <td>1</td>\n",
       "      <td>17</td>\n",
       "      <td>50042.59757</td>\n",
       "      <td>0</td>\n",
       "    </tr>\n",
       "    <tr>\n",
       "      <th>2</th>\n",
       "      <td>4450</td>\n",
       "      <td>131050.8324</td>\n",
       "      <td>550.00</td>\n",
       "      <td>1.779354</td>\n",
       "      <td>3</td>\n",
       "      <td>754.57</td>\n",
       "      <td>12.47</td>\n",
       "      <td>9.20</td>\n",
       "      <td>48.38</td>\n",
       "      <td>23.74</td>\n",
       "      <td>...</td>\n",
       "      <td>4.26</td>\n",
       "      <td>8.07</td>\n",
       "      <td>8.48</td>\n",
       "      <td>Yes</td>\n",
       "      <td>Green</td>\n",
       "      <td>Yes</td>\n",
       "      <td>2</td>\n",
       "      <td>34</td>\n",
       "      <td>48400.34440</td>\n",
       "      <td>0</td>\n",
       "    </tr>\n",
       "    <tr>\n",
       "      <th>3</th>\n",
       "      <td>1070</td>\n",
       "      <td>151361.7125</td>\n",
       "      <td>941.81</td>\n",
       "      <td>2.035254</td>\n",
       "      <td>2</td>\n",
       "      <td>439.59</td>\n",
       "      <td>22.22</td>\n",
       "      <td>7.08</td>\n",
       "      <td>94.67</td>\n",
       "      <td>5.22</td>\n",
       "      <td>...</td>\n",
       "      <td>4.45</td>\n",
       "      <td>5.00</td>\n",
       "      <td>6.27</td>\n",
       "      <td>Yes</td>\n",
       "      <td>Red</td>\n",
       "      <td>No</td>\n",
       "      <td>1</td>\n",
       "      <td>14</td>\n",
       "      <td>84594.12145</td>\n",
       "      <td>0</td>\n",
       "    </tr>\n",
       "    <tr>\n",
       "      <th>4</th>\n",
       "      <td>400</td>\n",
       "      <td>113167.6128</td>\n",
       "      <td>550.00</td>\n",
       "      <td>1.064644</td>\n",
       "      <td>3</td>\n",
       "      <td>353.03</td>\n",
       "      <td>8.28</td>\n",
       "      <td>5.93</td>\n",
       "      <td>16.80</td>\n",
       "      <td>43.13</td>\n",
       "      <td>...</td>\n",
       "      <td>3.36</td>\n",
       "      <td>5.46</td>\n",
       "      <td>6.99</td>\n",
       "      <td>No</td>\n",
       "      <td>White</td>\n",
       "      <td>Yes</td>\n",
       "      <td>1</td>\n",
       "      <td>21</td>\n",
       "      <td>22934.59654</td>\n",
       "      <td>0</td>\n",
       "    </tr>\n",
       "  </tbody>\n",
       "</table>\n",
       "<p>5 rows × 22 columns</p>\n",
       "</div>"
      ],
      "text/plain": [
       "   Unnamed: 0        Price  SquareFootage  NumBathrooms  NumBedrooms  \\\n",
       "0        4922  255614.8992         566.62      1.000000            4   \n",
       "1        5009  155586.0947        1472.34      1.000000            2   \n",
       "2        4450  131050.8324         550.00      1.779354            3   \n",
       "3        1070  151361.7125         941.81      2.035254            2   \n",
       "4         400  113167.6128         550.00      1.064644            3   \n",
       "\n",
       "   BackyardSpace  CrimeRate  SchoolRating  AgeOfHome  DistanceToCityCenter  \\\n",
       "0         779.42      20.56          5.62      39.46                 10.08   \n",
       "1         656.13      15.62          5.63      40.51                  7.89   \n",
       "2         754.57      12.47          9.20      48.38                 23.74   \n",
       "3         439.59      22.22          7.08      94.67                  5.22   \n",
       "4         353.03       8.28          5.93      16.80                 43.13   \n",
       "\n",
       "   ...  RenovationQuality  LocalAmenities  TransportAccess  Fireplace  \\\n",
       "0  ...               4.93            4.44             4.55        Yes   \n",
       "1  ...               4.08            5.56             6.83         No   \n",
       "2  ...               4.26            8.07             8.48        Yes   \n",
       "3  ...               4.45            5.00             6.27        Yes   \n",
       "4  ...               3.36            5.46             6.99         No   \n",
       "\n",
       "   HouseColor Garage Floors Windows  PreviousSalePrice  IsLuxury  \n",
       "0        Blue     No      1      13       181861.54230         0  \n",
       "1       Green     No      1      17        50042.59757         0  \n",
       "2       Green    Yes      2      34        48400.34440         0  \n",
       "3         Red     No      1      14        84594.12145         0  \n",
       "4       White    Yes      1      21        22934.59654         0  \n",
       "\n",
       "[5 rows x 22 columns]"
      ]
     },
     "execution_count": 2,
     "metadata": {},
     "output_type": "execute_result"
    }
   ],
   "source": [
    "df.head()"
   ]
  },
  {
   "cell_type": "markdown",
   "id": "2bef68a7-50f0-4994-8a71-be8bacc7b8b2",
   "metadata": {},
   "source": [
    "<p>I used the read_csv() function from the pandas library to load the housing information dataset into a DataFrame for analysis. The output from the head() function confirmed that the dataset was loaded successfully. The dataset contains information on 7,000 homes, including both housing features and neighborhood characteristics. It has 22 columns, with each row representing one house.</p>"
   ]
  },
  {
   "cell_type": "code",
   "execution_count": 3,
   "id": "6a0b790b-fc7d-4903-92d7-533060a8ab7a",
   "metadata": {},
   "outputs": [],
   "source": [
    "df.drop(columns=[\"Unnamed: 0\"], inplace=True)"
   ]
  },
  {
   "cell_type": "markdown",
   "id": "8d06f347-767a-41c1-ab3c-dda13125c7ff",
   "metadata": {},
   "source": [
    "<p>I used the drop() function to remove the Unnamed: 0 column from the dataset because it was just an index and not needed for analysis.</p>"
   ]
  },
  {
   "cell_type": "code",
   "execution_count": 4,
   "id": "a86a130e-e0cc-42f7-a654-bc63131f3efd",
   "metadata": {},
   "outputs": [
    {
     "data": {
      "text/plain": [
       "Price                   0\n",
       "SquareFootage           0\n",
       "NumBathrooms            0\n",
       "NumBedrooms             0\n",
       "BackyardSpace           0\n",
       "CrimeRate               0\n",
       "SchoolRating            0\n",
       "AgeOfHome               0\n",
       "DistanceToCityCenter    0\n",
       "EmploymentRate          0\n",
       "PropertyTaxRate         0\n",
       "RenovationQuality       0\n",
       "LocalAmenities          0\n",
       "TransportAccess         0\n",
       "Fireplace               0\n",
       "HouseColor              0\n",
       "Garage                  0\n",
       "Floors                  0\n",
       "Windows                 0\n",
       "PreviousSalePrice       0\n",
       "IsLuxury                0\n",
       "dtype: int64"
      ]
     },
     "execution_count": 4,
     "metadata": {},
     "output_type": "execute_result"
    }
   ],
   "source": [
    "df.isnull().sum()"
   ]
  },
  {
   "cell_type": "markdown",
   "id": "a420a396-113a-4a41-ba5d-ac30406dd9b6",
   "metadata": {},
   "source": [
    "<p>I used the isnull() function with the sum() function to count missing values in each column of the housing dataset. Since there were no missing values, I moved straight to encoding categorical variables.</p>"
   ]
  },
  {
   "cell_type": "code",
   "execution_count": 5,
   "id": "e65408d4-2e73-40e2-bfda-a3e15c12535d",
   "metadata": {},
   "outputs": [],
   "source": [
    "from sklearn.preprocessing import LabelEncoder\n",
    "\n",
    "label_encoder = LabelEncoder()\n",
    "df['Fireplace'] = label_encoder.fit_transform(df['Fireplace'])  # Yes/No to 1/0\n",
    "df['Garage'] = label_encoder.fit_transform(df['Garage'])        # Yes/No to 1/0\n",
    "df['HouseColor'] = label_encoder.fit_transform(df['HouseColor'])  # Color categories to integers"
   ]
  },
  {
   "cell_type": "code",
   "execution_count": 6,
   "id": "231ff30c-c3bf-4b00-91bd-41664bc95d41",
   "metadata": {},
   "outputs": [
    {
     "data": {
      "text/html": [
       "<div>\n",
       "<style scoped>\n",
       "    .dataframe tbody tr th:only-of-type {\n",
       "        vertical-align: middle;\n",
       "    }\n",
       "\n",
       "    .dataframe tbody tr th {\n",
       "        vertical-align: top;\n",
       "    }\n",
       "\n",
       "    .dataframe thead th {\n",
       "        text-align: right;\n",
       "    }\n",
       "</style>\n",
       "<table border=\"1\" class=\"dataframe\">\n",
       "  <thead>\n",
       "    <tr style=\"text-align: right;\">\n",
       "      <th></th>\n",
       "      <th>Price</th>\n",
       "      <th>SquareFootage</th>\n",
       "      <th>NumBathrooms</th>\n",
       "      <th>NumBedrooms</th>\n",
       "      <th>BackyardSpace</th>\n",
       "      <th>CrimeRate</th>\n",
       "      <th>SchoolRating</th>\n",
       "      <th>AgeOfHome</th>\n",
       "      <th>DistanceToCityCenter</th>\n",
       "      <th>EmploymentRate</th>\n",
       "      <th>...</th>\n",
       "      <th>RenovationQuality</th>\n",
       "      <th>LocalAmenities</th>\n",
       "      <th>TransportAccess</th>\n",
       "      <th>Fireplace</th>\n",
       "      <th>HouseColor</th>\n",
       "      <th>Garage</th>\n",
       "      <th>Floors</th>\n",
       "      <th>Windows</th>\n",
       "      <th>PreviousSalePrice</th>\n",
       "      <th>IsLuxury</th>\n",
       "    </tr>\n",
       "  </thead>\n",
       "  <tbody>\n",
       "    <tr>\n",
       "      <th>0</th>\n",
       "      <td>255614.8992</td>\n",
       "      <td>566.62</td>\n",
       "      <td>1.000000</td>\n",
       "      <td>4</td>\n",
       "      <td>779.42</td>\n",
       "      <td>20.56</td>\n",
       "      <td>5.62</td>\n",
       "      <td>39.46</td>\n",
       "      <td>10.08</td>\n",
       "      <td>97.29</td>\n",
       "      <td>...</td>\n",
       "      <td>4.93</td>\n",
       "      <td>4.44</td>\n",
       "      <td>4.55</td>\n",
       "      <td>1</td>\n",
       "      <td>0</td>\n",
       "      <td>0</td>\n",
       "      <td>1</td>\n",
       "      <td>13</td>\n",
       "      <td>181861.54230</td>\n",
       "      <td>0</td>\n",
       "    </tr>\n",
       "    <tr>\n",
       "      <th>1</th>\n",
       "      <td>155586.0947</td>\n",
       "      <td>1472.34</td>\n",
       "      <td>1.000000</td>\n",
       "      <td>2</td>\n",
       "      <td>656.13</td>\n",
       "      <td>15.62</td>\n",
       "      <td>5.63</td>\n",
       "      <td>40.51</td>\n",
       "      <td>7.89</td>\n",
       "      <td>93.22</td>\n",
       "      <td>...</td>\n",
       "      <td>4.08</td>\n",
       "      <td>5.56</td>\n",
       "      <td>6.83</td>\n",
       "      <td>0</td>\n",
       "      <td>1</td>\n",
       "      <td>0</td>\n",
       "      <td>1</td>\n",
       "      <td>17</td>\n",
       "      <td>50042.59757</td>\n",
       "      <td>0</td>\n",
       "    </tr>\n",
       "    <tr>\n",
       "      <th>2</th>\n",
       "      <td>131050.8324</td>\n",
       "      <td>550.00</td>\n",
       "      <td>1.779354</td>\n",
       "      <td>3</td>\n",
       "      <td>754.57</td>\n",
       "      <td>12.47</td>\n",
       "      <td>9.20</td>\n",
       "      <td>48.38</td>\n",
       "      <td>23.74</td>\n",
       "      <td>96.60</td>\n",
       "      <td>...</td>\n",
       "      <td>4.26</td>\n",
       "      <td>8.07</td>\n",
       "      <td>8.48</td>\n",
       "      <td>1</td>\n",
       "      <td>1</td>\n",
       "      <td>1</td>\n",
       "      <td>2</td>\n",
       "      <td>34</td>\n",
       "      <td>48400.34440</td>\n",
       "      <td>0</td>\n",
       "    </tr>\n",
       "    <tr>\n",
       "      <th>3</th>\n",
       "      <td>151361.7125</td>\n",
       "      <td>941.81</td>\n",
       "      <td>2.035254</td>\n",
       "      <td>2</td>\n",
       "      <td>439.59</td>\n",
       "      <td>22.22</td>\n",
       "      <td>7.08</td>\n",
       "      <td>94.67</td>\n",
       "      <td>5.22</td>\n",
       "      <td>91.45</td>\n",
       "      <td>...</td>\n",
       "      <td>4.45</td>\n",
       "      <td>5.00</td>\n",
       "      <td>6.27</td>\n",
       "      <td>1</td>\n",
       "      <td>2</td>\n",
       "      <td>0</td>\n",
       "      <td>1</td>\n",
       "      <td>14</td>\n",
       "      <td>84594.12145</td>\n",
       "      <td>0</td>\n",
       "    </tr>\n",
       "    <tr>\n",
       "      <th>4</th>\n",
       "      <td>113167.6128</td>\n",
       "      <td>550.00</td>\n",
       "      <td>1.064644</td>\n",
       "      <td>3</td>\n",
       "      <td>353.03</td>\n",
       "      <td>8.28</td>\n",
       "      <td>5.93</td>\n",
       "      <td>16.80</td>\n",
       "      <td>43.13</td>\n",
       "      <td>86.50</td>\n",
       "      <td>...</td>\n",
       "      <td>3.36</td>\n",
       "      <td>5.46</td>\n",
       "      <td>6.99</td>\n",
       "      <td>0</td>\n",
       "      <td>3</td>\n",
       "      <td>1</td>\n",
       "      <td>1</td>\n",
       "      <td>21</td>\n",
       "      <td>22934.59654</td>\n",
       "      <td>0</td>\n",
       "    </tr>\n",
       "  </tbody>\n",
       "</table>\n",
       "<p>5 rows × 21 columns</p>\n",
       "</div>"
      ],
      "text/plain": [
       "         Price  SquareFootage  NumBathrooms  NumBedrooms  BackyardSpace  \\\n",
       "0  255614.8992         566.62      1.000000            4         779.42   \n",
       "1  155586.0947        1472.34      1.000000            2         656.13   \n",
       "2  131050.8324         550.00      1.779354            3         754.57   \n",
       "3  151361.7125         941.81      2.035254            2         439.59   \n",
       "4  113167.6128         550.00      1.064644            3         353.03   \n",
       "\n",
       "   CrimeRate  SchoolRating  AgeOfHome  DistanceToCityCenter  EmploymentRate  \\\n",
       "0      20.56          5.62      39.46                 10.08           97.29   \n",
       "1      15.62          5.63      40.51                  7.89           93.22   \n",
       "2      12.47          9.20      48.38                 23.74           96.60   \n",
       "3      22.22          7.08      94.67                  5.22           91.45   \n",
       "4       8.28          5.93      16.80                 43.13           86.50   \n",
       "\n",
       "   ...  RenovationQuality  LocalAmenities  TransportAccess  Fireplace  \\\n",
       "0  ...               4.93            4.44             4.55          1   \n",
       "1  ...               4.08            5.56             6.83          0   \n",
       "2  ...               4.26            8.07             8.48          1   \n",
       "3  ...               4.45            5.00             6.27          1   \n",
       "4  ...               3.36            5.46             6.99          0   \n",
       "\n",
       "   HouseColor  Garage  Floors  Windows  PreviousSalePrice  IsLuxury  \n",
       "0           0       0       1       13       181861.54230         0  \n",
       "1           1       0       1       17        50042.59757         0  \n",
       "2           1       1       2       34        48400.34440         0  \n",
       "3           2       0       1       14        84594.12145         0  \n",
       "4           3       1       1       21        22934.59654         0  \n",
       "\n",
       "[5 rows x 21 columns]"
      ]
     },
     "execution_count": 6,
     "metadata": {},
     "output_type": "execute_result"
    }
   ],
   "source": [
    "df.head()"
   ]
  },
  {
   "cell_type": "markdown",
   "id": "d8b5aae4-b7b2-4e7b-ae6e-838629a1c549",
   "metadata": {},
   "source": [
    "<p>I imported the LabelEncoder class from the sklearn library to convert categorical variables into numerical values, since Random Forest only work with numeric inputs. I used the fit_transform() function to apply label encoding to the categorical columns Fireplace, Garage, and HouseColor. After encoding, I used the head() function to verify that the transformation was successful.</p>"
   ]
  },
  {
   "cell_type": "markdown",
   "id": "630c5e1e-23b4-412e-b326-90e89f2759ff",
   "metadata": {},
   "source": [
    "### D4. Provide a copy of the cleaned dataset "
   ]
  },
  {
   "cell_type": "code",
   "execution_count": 7,
   "id": "6ff2ec13-f000-4354-aaa7-90c7c400256e",
   "metadata": {},
   "outputs": [],
   "source": [
    "#exporting the cleaned dataset to a CSV file\n",
    "df.to_csv('d606_cleaned_dataset.csv', index=False)"
   ]
  },
  {
   "cell_type": "markdown",
   "id": "bfde9e3a-9f68-4133-b92d-030d3c3048d9",
   "metadata": {},
   "source": [
    "<p>d606_cleaned_dataset.csv is the housing dataset that has been properly prepared for analysis using the Random Forest classification method. I included this file in my submission. </p>"
   ]
  },
  {
   "cell_type": "markdown",
   "id": "a58c2c84-91a0-454e-94ac-e84e7e47c447",
   "metadata": {},
   "source": [
    "### E1. Split the data into training, validation and test datasets and provide the files"
   ]
  },
  {
   "cell_type": "code",
   "execution_count": 8,
   "id": "f5bd11bf-7246-4760-a178-b1057712dbc3",
   "metadata": {},
   "outputs": [],
   "source": [
    "from sklearn.model_selection import train_test_split\n",
    "\n",
    "X = df.drop(columns=[\"IsLuxury\"])  \n",
    "y = df[\"IsLuxury\"]                 \n",
    "\n",
    "#splitting the dataset into training + temp (80%) and test (20%)\n",
    "X_train_val, X_test, y_train_val, y_test = train_test_split(X, y, test_size=0.2, random_state=24, stratify=y)\n",
    "\n",
    "#splitting training + temp into training (60%) and validation (20%)\n",
    "X_train, X_val, y_train, y_val = train_test_split(X_train_val, y_train_val, test_size=0.25, random_state=24, stratify=y_train_val)"
   ]
  },
  {
   "cell_type": "code",
   "execution_count": 9,
   "id": "91665fe1-707b-4455-9259-18a54099b42e",
   "metadata": {},
   "outputs": [
    {
     "name": "stdout",
     "output_type": "stream",
     "text": [
      "Training set: (4200, 20)\n",
      "Validation set: (1400, 20)\n",
      "Test set: (1400, 20)\n"
     ]
    }
   ],
   "source": [
    "#printing dataset sizes to confirm splits\n",
    "print(f\"Training set: {X_train.shape}\")\n",
    "print(f\"Validation set: {X_val.shape}\")\n",
    "print(f\"Test set: {X_test.shape}\")"
   ]
  },
  {
   "cell_type": "markdown",
   "id": "bc08834e-7092-43dc-8129-dcea386c48cb",
   "metadata": {},
   "source": [
    "<p>Before splitting the data, I separated the features and the target variable IsLuxury. I stored the features in X and the target variable in y. Then, I used the train_test_split() function from the sklearn library to first split the data into training and test sets. After that, I split the training set again to create a validation set. In the final split, 60% of the data is used for training, 20% for validation and 20% for testing.</p>"
   ]
  },
  {
   "cell_type": "markdown",
   "id": "3b2d3302-2a5a-44ac-9d2a-d2cb7a4e876d",
   "metadata": {},
   "source": [
    "#### Providing the training, validation, and test data files"
   ]
  },
  {
   "cell_type": "code",
   "execution_count": 10,
   "id": "4f02e2ee-fcc8-4283-815f-0185b4e1f179",
   "metadata": {},
   "outputs": [],
   "source": [
    "#combining features and target for the training set, and exporting it\n",
    "training_data = X_train.copy()\n",
    "training_data['IsLuxury'] = y_train\n",
    "training_data.to_csv('training_data.csv', index=False)\n",
    "\n",
    "#combining features and target for the validation set, and exporting it\n",
    "validation_data = X_val.copy()\n",
    "validation_data['IsLuxury'] = y_val\n",
    "validation_data.to_csv('validation_data.csv', index=False)\n",
    "\n",
    "#combinining features and target for the test set, and exporting it\n",
    "test_data = X_test.copy()\n",
    "test_data['IsLuxury'] = y_test\n",
    "test_data.to_csv('test_data.csv', index=False)"
   ]
  },
  {
   "cell_type": "markdown",
   "id": "b7acf56d-47e8-4df7-ada3-58a0f8aff24e",
   "metadata": {},
   "source": [
    "<p>I combined the features and target variable for the training, validation, and test sets, then saved each one as a CSV file. The training set was saved as \"training_data.csv\", the validation set as \"validation_data.csv\", and the test set as \"test_data.csv\".</p>"
   ]
  },
  {
   "cell_type": "markdown",
   "id": "891fc224-e3f4-41c6-8a4c-b6300dfe1d49",
   "metadata": {},
   "source": [
    "### E2. Create an initial model using the training dataset and provide a screenshot of the following metrics"
   ]
  },
  {
   "cell_type": "code",
   "execution_count": 11,
   "id": "a9fb7c5a-d237-41e9-ab96-e0014c362ddb",
   "metadata": {},
   "outputs": [
    {
     "name": "stdout",
     "output_type": "stream",
     "text": [
      "Evaluating the initial Random Forest model on the validation dataset\n",
      "\n",
      "Accuracy: 0.90\n",
      "Precision: 0.90\n",
      "Recall: 0.90\n",
      "F1 Score: 0.90\n",
      "AUC-ROC: 0.90\n",
      "Confusion Matrix:\n",
      "[[624  71]\n",
      " [ 68 637]]\n"
     ]
    }
   ],
   "source": [
    "from sklearn.ensemble import RandomForestClassifier\n",
    "from sklearn.metrics import accuracy_score, precision_score, recall_score, f1_score, roc_auc_score, confusion_matrix\n",
    "\n",
    "#initializing the Random Forest model\n",
    "rf_model = RandomForestClassifier(random_state=24)\n",
    "\n",
    "#training the model using the training dataset\n",
    "rf_model.fit(X_train, y_train)\n",
    "\n",
    "#making predictions on the validation set\n",
    "y_pred = rf_model.predict(X_val)\n",
    "y_pred_prob = rf_model.predict_proba(X_val)[:, 1]\n",
    "\n",
    "#calculating evaluation metrics\n",
    "accuracy = accuracy_score(y_val, y_pred)\n",
    "precision = precision_score(y_val, y_pred)\n",
    "recall = recall_score(y_val, y_pred)\n",
    "f1 = f1_score(y_val, y_pred)\n",
    "auc_roc = roc_auc_score(y_val, y_pred_prob)\n",
    "conf_matrix = confusion_matrix(y_val, y_pred)\n",
    "\n",
    "#printing evaluation metrics\n",
    "print(\"Evaluating the initial Random Forest model on the validation dataset\\n\")\n",
    "print(f\"Accuracy: {accuracy:.2f}\")\n",
    "print(f\"Precision: {precision:.2f}\")\n",
    "print(f\"Recall: {recall:.2f}\")\n",
    "print(f\"F1 Score: {f1:.2f}\")\n",
    "print(f\"AUC-ROC: {auc_roc:.2f}\")\n",
    "print(f\"Confusion Matrix:\\n{conf_matrix}\")"
   ]
  },
  {
   "cell_type": "markdown",
   "id": "90f0216d-4d6a-46df-bab6-c9b1f86e9dc8",
   "metadata": {},
   "source": [
    "<p>In this code, I started by importing the RandomForestClassifier() function from the sklearn library to create and train the Random Forest model. I also imported evaluation functions such as accuracy_score(), precision_score(), recall_score(), f1_score(), roc_auc_score(), and confusion_matrix() to measure the model's performance using various metrics.</p>\n",
    "\n",
    "<p>I initialized the Random Forest model using the RandomForestClassifier() function and trained it on the training set. Then, I used the predict() function to have the model predict class labels for the validation set. I also used the predict_proba() function to predict the probability of each class, which is needed to calculate the AUC-ROC score.</p>\n",
    "\n",
    "<p>I calculated and displayed the accuracy, precision, recall, F1 score, AUC-ROC, and confusion matrix for the Random Forest model. The model scored 90% on all key metrics: accuracy, precision, recall, F1 score, and AUC-ROC. The confusion matrix shows 624 true negatives, 71 false positives, 68 false negatives, and 637 true positives.</p>"
   ]
  },
  {
   "cell_type": "markdown",
   "id": "df02fa9e-8378-4101-8305-fe2df8cc88c8",
   "metadata": {},
   "source": [
    "### E3. Perform hyperparameter tuning on the validation dataset using k-fold cross validation to find the optimized model."
   ]
  },
  {
   "cell_type": "code",
   "execution_count": 12,
   "id": "f7730c99-5177-4f92-909f-bc4843877c0d",
   "metadata": {},
   "outputs": [
    {
     "name": "stdout",
     "output_type": "stream",
     "text": [
      "Fitting 5 folds for each of 108 candidates, totalling 540 fits\n"
     ]
    },
    {
     "data": {
      "text/html": [
       "<style>#sk-container-id-1 {color: black;background-color: white;}#sk-container-id-1 pre{padding: 0;}#sk-container-id-1 div.sk-toggleable {background-color: white;}#sk-container-id-1 label.sk-toggleable__label {cursor: pointer;display: block;width: 100%;margin-bottom: 0;padding: 0.3em;box-sizing: border-box;text-align: center;}#sk-container-id-1 label.sk-toggleable__label-arrow:before {content: \"▸\";float: left;margin-right: 0.25em;color: #696969;}#sk-container-id-1 label.sk-toggleable__label-arrow:hover:before {color: black;}#sk-container-id-1 div.sk-estimator:hover label.sk-toggleable__label-arrow:before {color: black;}#sk-container-id-1 div.sk-toggleable__content {max-height: 0;max-width: 0;overflow: hidden;text-align: left;background-color: #f0f8ff;}#sk-container-id-1 div.sk-toggleable__content pre {margin: 0.2em;color: black;border-radius: 0.25em;background-color: #f0f8ff;}#sk-container-id-1 input.sk-toggleable__control:checked~div.sk-toggleable__content {max-height: 200px;max-width: 100%;overflow: auto;}#sk-container-id-1 input.sk-toggleable__control:checked~label.sk-toggleable__label-arrow:before {content: \"▾\";}#sk-container-id-1 div.sk-estimator input.sk-toggleable__control:checked~label.sk-toggleable__label {background-color: #d4ebff;}#sk-container-id-1 div.sk-label input.sk-toggleable__control:checked~label.sk-toggleable__label {background-color: #d4ebff;}#sk-container-id-1 input.sk-hidden--visually {border: 0;clip: rect(1px 1px 1px 1px);clip: rect(1px, 1px, 1px, 1px);height: 1px;margin: -1px;overflow: hidden;padding: 0;position: absolute;width: 1px;}#sk-container-id-1 div.sk-estimator {font-family: monospace;background-color: #f0f8ff;border: 1px dotted black;border-radius: 0.25em;box-sizing: border-box;margin-bottom: 0.5em;}#sk-container-id-1 div.sk-estimator:hover {background-color: #d4ebff;}#sk-container-id-1 div.sk-parallel-item::after {content: \"\";width: 100%;border-bottom: 1px solid gray;flex-grow: 1;}#sk-container-id-1 div.sk-label:hover label.sk-toggleable__label {background-color: #d4ebff;}#sk-container-id-1 div.sk-serial::before {content: \"\";position: absolute;border-left: 1px solid gray;box-sizing: border-box;top: 0;bottom: 0;left: 50%;z-index: 0;}#sk-container-id-1 div.sk-serial {display: flex;flex-direction: column;align-items: center;background-color: white;padding-right: 0.2em;padding-left: 0.2em;position: relative;}#sk-container-id-1 div.sk-item {position: relative;z-index: 1;}#sk-container-id-1 div.sk-parallel {display: flex;align-items: stretch;justify-content: center;background-color: white;position: relative;}#sk-container-id-1 div.sk-item::before, #sk-container-id-1 div.sk-parallel-item::before {content: \"\";position: absolute;border-left: 1px solid gray;box-sizing: border-box;top: 0;bottom: 0;left: 50%;z-index: -1;}#sk-container-id-1 div.sk-parallel-item {display: flex;flex-direction: column;z-index: 1;position: relative;background-color: white;}#sk-container-id-1 div.sk-parallel-item:first-child::after {align-self: flex-end;width: 50%;}#sk-container-id-1 div.sk-parallel-item:last-child::after {align-self: flex-start;width: 50%;}#sk-container-id-1 div.sk-parallel-item:only-child::after {width: 0;}#sk-container-id-1 div.sk-dashed-wrapped {border: 1px dashed gray;margin: 0 0.4em 0.5em 0.4em;box-sizing: border-box;padding-bottom: 0.4em;background-color: white;}#sk-container-id-1 div.sk-label label {font-family: monospace;font-weight: bold;display: inline-block;line-height: 1.2em;}#sk-container-id-1 div.sk-label-container {text-align: center;}#sk-container-id-1 div.sk-container {/* jupyter's `normalize.less` sets `[hidden] { display: none; }` but bootstrap.min.css set `[hidden] { display: none !important; }` so we also need the `!important` here to be able to override the default hidden behavior on the sphinx rendered scikit-learn.org. See: https://github.com/scikit-learn/scikit-learn/issues/21755 */display: inline-block !important;position: relative;}#sk-container-id-1 div.sk-text-repr-fallback {display: none;}</style><div id=\"sk-container-id-1\" class=\"sk-top-container\"><div class=\"sk-text-repr-fallback\"><pre>GridSearchCV(cv=StratifiedKFold(n_splits=5, random_state=24, shuffle=True),\n",
       "             estimator=RandomForestClassifier(random_state=24), n_jobs=-1,\n",
       "             param_grid={&#x27;max_depth&#x27;: [5, 10, 20, None],\n",
       "                         &#x27;min_samples_leaf&#x27;: [1, 2, 4],\n",
       "                         &#x27;min_samples_split&#x27;: [2, 5, 10],\n",
       "                         &#x27;n_estimators&#x27;: [50, 100, 200]},\n",
       "             scoring=&#x27;accuracy&#x27;, verbose=2)</pre><b>In a Jupyter environment, please rerun this cell to show the HTML representation or trust the notebook. <br />On GitHub, the HTML representation is unable to render, please try loading this page with nbviewer.org.</b></div><div class=\"sk-container\" hidden><div class=\"sk-item sk-dashed-wrapped\"><div class=\"sk-label-container\"><div class=\"sk-label sk-toggleable\"><input class=\"sk-toggleable__control sk-hidden--visually\" id=\"sk-estimator-id-1\" type=\"checkbox\" ><label for=\"sk-estimator-id-1\" class=\"sk-toggleable__label sk-toggleable__label-arrow\">GridSearchCV</label><div class=\"sk-toggleable__content\"><pre>GridSearchCV(cv=StratifiedKFold(n_splits=5, random_state=24, shuffle=True),\n",
       "             estimator=RandomForestClassifier(random_state=24), n_jobs=-1,\n",
       "             param_grid={&#x27;max_depth&#x27;: [5, 10, 20, None],\n",
       "                         &#x27;min_samples_leaf&#x27;: [1, 2, 4],\n",
       "                         &#x27;min_samples_split&#x27;: [2, 5, 10],\n",
       "                         &#x27;n_estimators&#x27;: [50, 100, 200]},\n",
       "             scoring=&#x27;accuracy&#x27;, verbose=2)</pre></div></div></div><div class=\"sk-parallel\"><div class=\"sk-parallel-item\"><div class=\"sk-item\"><div class=\"sk-label-container\"><div class=\"sk-label sk-toggleable\"><input class=\"sk-toggleable__control sk-hidden--visually\" id=\"sk-estimator-id-2\" type=\"checkbox\" ><label for=\"sk-estimator-id-2\" class=\"sk-toggleable__label sk-toggleable__label-arrow\">estimator: RandomForestClassifier</label><div class=\"sk-toggleable__content\"><pre>RandomForestClassifier(random_state=24)</pre></div></div></div><div class=\"sk-serial\"><div class=\"sk-item\"><div class=\"sk-estimator sk-toggleable\"><input class=\"sk-toggleable__control sk-hidden--visually\" id=\"sk-estimator-id-3\" type=\"checkbox\" ><label for=\"sk-estimator-id-3\" class=\"sk-toggleable__label sk-toggleable__label-arrow\">RandomForestClassifier</label><div class=\"sk-toggleable__content\"><pre>RandomForestClassifier(random_state=24)</pre></div></div></div></div></div></div></div></div></div></div>"
      ],
      "text/plain": [
       "GridSearchCV(cv=StratifiedKFold(n_splits=5, random_state=24, shuffle=True),\n",
       "             estimator=RandomForestClassifier(random_state=24), n_jobs=-1,\n",
       "             param_grid={'max_depth': [5, 10, 20, None],\n",
       "                         'min_samples_leaf': [1, 2, 4],\n",
       "                         'min_samples_split': [2, 5, 10],\n",
       "                         'n_estimators': [50, 100, 200]},\n",
       "             scoring='accuracy', verbose=2)"
      ]
     },
     "execution_count": 12,
     "metadata": {},
     "output_type": "execute_result"
    }
   ],
   "source": [
    "from sklearn.model_selection import GridSearchCV, StratifiedKFold\n",
    "\n",
    "#defining the parameter grid\n",
    "param_grid = {\n",
    "    \"n_estimators\": [50, 100, 200],  #number of trees\n",
    "    \"max_depth\": [5, 10, 20, None],  #max depth of each tree\n",
    "    \"min_samples_split\": [2, 5, 10],  #min samples required to split a node\n",
    "    \"min_samples_leaf\": [1, 2, 4],  #min samples required at each leaf\n",
    "}\n",
    "\n",
    "#initializing the Random Forest classifier\n",
    "rf_model = RandomForestClassifier(random_state=24)\n",
    "\n",
    "#defining the cross-validation strategy\n",
    "cv = StratifiedKFold(n_splits=5, shuffle=True, random_state=24)\n",
    "\n",
    "#initializing GridSearchCV\n",
    "grid_search = GridSearchCV(\n",
    "    estimator=rf_model,\n",
    "    param_grid=param_grid,\n",
    "    scoring=\"accuracy\",  #accuracy is the metric to optimize\n",
    "    cv=cv,  #use 5-fold cross-validation\n",
    "    verbose=2, \n",
    "    n_jobs=-1,  \n",
    ")\n",
    "\n",
    "#performing the grid search\n",
    "grid_search.fit(X_train, y_train)"
   ]
  },
  {
   "cell_type": "markdown",
   "id": "914c98b5-cb43-4aca-a16c-aa72e2e2c595",
   "metadata": {},
   "source": [
    "<p>The hyperparameters that I selected for tuning are ‘n_estimators’, ‘max_depth’, ‘min_samples_split’, and’ min_samples_leaf’. The hyperparameter ‘n_estimators’ represents the number of trees in the forest. The hyperparameter ‘max_depth’ controls the maximum depth of each tree. The hyperparameter ‘min_samples_split’ is the minimum number of samples required to split a node. The hyperparameter ‘min_samples_leaf’ is the minimum number of samples required in a leaf node.</p>\n",
    "\n",
    "<p>Here, I will discuss the justification for the selected hyperparameters. I selected ‘n_estimators’ because it controls the number of trees in the forest, with more trees typically improving performance but increasing training time. I selected ‘max_depth’ because it limits tree depth, helping to prevent overfitting by avoiding overly complex trees. I selected ‘min_samples_split’ because it reduces overfitting by requiring more samples to split a node. I selected ‘min_samples_leaf’ because it reduces overfitting by ensuring that leaf nodes have enough samples. Overall, these hyperparameters help improve the model's performance and prevent overfitting.</p>"
   ]
  },
  {
   "cell_type": "code",
   "execution_count": 13,
   "id": "3f65a203-8ebc-4d01-91ad-fbaa1600ed58",
   "metadata": {},
   "outputs": [
    {
     "name": "stdout",
     "output_type": "stream",
     "text": [
      "Best Hyperparameters: {'max_depth': None, 'min_samples_leaf': 1, 'min_samples_split': 5, 'n_estimators': 200}\n",
      "Best Cross-Validation Score: 0.8976190476190476\n"
     ]
    }
   ],
   "source": [
    "#finding best hyperparameters\n",
    "best_params = grid_search.best_params_\n",
    "best_score = grid_search.best_score_\n",
    "\n",
    "#displaying the results\n",
    "print(\"Best Hyperparameters:\", best_params)\n",
    "print(\"Best Cross-Validation Score:\", best_score)"
   ]
  },
  {
   "cell_type": "markdown",
   "id": "ff65ae35-879f-4027-9cd3-76e5a9bcf2bc",
   "metadata": {},
   "source": [
    "<p>The optimized Random Forest model’s best hyperparameters are 'max_depth' = None, 'min_samples_leaf' = 1, 'min_samples_split' = 5, and 'n_estimators' = 200. This combination of hyperparameters achieved an average accuracy score of 89.76% during cross-validation.</p>"
   ]
  },
  {
   "cell_type": "markdown",
   "id": "9b166f98-e411-4d24-a614-f0e8fc1f50a2",
   "metadata": {},
   "source": [
    "#### Evaluating the optimized model on the validation dataset"
   ]
  },
  {
   "cell_type": "code",
   "execution_count": 14,
   "id": "1e04a75c-dec1-43f8-b2ca-efc2acb1d0f5",
   "metadata": {},
   "outputs": [
    {
     "name": "stdout",
     "output_type": "stream",
     "text": [
      "Evaluating the optimized Random Forest model on the validation dataset\n",
      "\n",
      "Validation Accuracy: 0.90\n",
      "Validation Precision: 0.90\n",
      "Validation Recall: 0.90\n",
      "Validation F1 Score: 0.90\n",
      "Validation AUC-ROC: 0.90\n",
      "Validation Confusion Matrix:\n",
      "[[623  72]\n",
      " [ 68 637]]\n"
     ]
    }
   ],
   "source": [
    "#training the model with the best hyperparameters\n",
    "best_rf_model = RandomForestClassifier(**grid_search.best_params_, random_state=24)\n",
    "best_rf_model.fit(X_train, y_train)\n",
    "\n",
    "#making predictions on the validation set\n",
    "y_val_pred = best_rf_model.predict(X_val)\n",
    "y_val_pred_prob = best_rf_model.predict_proba(X_val)[:, 1]\n",
    "\n",
    "#calculating evaluation metrics\n",
    "accuracy = accuracy_score(y_val, y_val_pred)\n",
    "precision = precision_score(y_val, y_val_pred)\n",
    "recall = recall_score(y_val, y_val_pred)\n",
    "f1 = f1_score(y_val, y_val_pred)\n",
    "auc_roc = roc_auc_score(y_val, y_val_pred_prob)\n",
    "conf_matrix = confusion_matrix(y_val, y_val_pred)\n",
    "\n",
    "#displaying metrics\n",
    "print(\"Evaluating the optimized Random Forest model on the validation dataset\\n\")\n",
    "print(f\"Validation Accuracy: {accuracy:.2f}\")\n",
    "print(f\"Validation Precision: {precision:.2f}\")\n",
    "print(f\"Validation Recall: {recall:.2f}\")\n",
    "print(f\"Validation F1 Score: {f1:.2f}\")\n",
    "print(f\"Validation AUC-ROC: {auc_roc:.2f}\")\n",
    "print(f\"Validation Confusion Matrix:\\n{conf_matrix}\")"
   ]
  },
  {
   "cell_type": "markdown",
   "id": "8b74f530-7e78-40f9-99d2-806cd1adb7fb",
   "metadata": {},
   "source": [
    "<p>I evaluated the optimized Random Forest model using the validation dataset. The model achieved an accuracy, precision, recall, F1 score, and AUC-ROC of 90%. The confusion matrix shows 623 true negatives, 72 false positives, 68 false negatives, and 637 true positives.</p>"
   ]
  },
  {
   "cell_type": "markdown",
   "id": "2ee79d73-b289-417d-9ff0-bfb592ffbc75",
   "metadata": {},
   "source": [
    "### E4. Use the optimized model identified in part E3 to make predictions using the test dataset and provide a screenshot of the following metrics"
   ]
  },
  {
   "cell_type": "code",
   "execution_count": 15,
   "id": "e78c95ca-63de-4cab-af97-1c0ce0a5485f",
   "metadata": {},
   "outputs": [
    {
     "name": "stdout",
     "output_type": "stream",
     "text": [
      "Evaluating the optimized Random Forest model on the test dataset\n",
      "\n",
      "Test Accuracy: 0.90\n",
      "Test Precision: 0.91\n",
      "Test Recall: 0.89\n",
      "Test F1 Score: 0.90\n",
      "Test AUC-ROC: 0.90\n",
      "Test Confusion Matrix:\n",
      "[[631  63]\n",
      " [ 75 631]]\n"
     ]
    }
   ],
   "source": [
    "#training the model with the best hyperparameters\n",
    "best_rf_model = RandomForestClassifier(**grid_search.best_params_, random_state=24)\n",
    "best_rf_model.fit(X_train, y_train)\n",
    "\n",
    "#making predictions on the test set\n",
    "y_test_pred = best_rf_model.predict(X_test)\n",
    "y_test_pred_prob = best_rf_model.predict_proba(X_test)[:, 1]\n",
    "\n",
    "#calculating evaluation metrics\n",
    "test_accuracy = accuracy_score(y_test, y_test_pred)\n",
    "test_precision = precision_score(y_test, y_test_pred)\n",
    "test_recall = recall_score(y_test, y_test_pred)\n",
    "test_f1 = f1_score(y_test, y_test_pred)\n",
    "test_auc_roc = roc_auc_score(y_test, y_test_pred_prob)\n",
    "conf_matrix = confusion_matrix(y_test, y_test_pred)\n",
    "\n",
    "#displaying metrics\n",
    "print(\"Evaluating the optimized Random Forest model on the test dataset\\n\")\n",
    "print(f\"Test Accuracy: {test_accuracy:.2f}\")\n",
    "print(f\"Test Precision: {test_precision:.2f}\")\n",
    "print(f\"Test Recall: {test_recall:.2f}\")\n",
    "print(f\"Test F1 Score: {test_f1:.2f}\")\n",
    "print(f\"Test AUC-ROC: {test_auc_roc:.2f}\")\n",
    "print(f\"Test Confusion Matrix:\\n{conf_matrix}\")"
   ]
  },
  {
   "cell_type": "markdown",
   "id": "5b6a48ab-533e-4e1f-bb2f-699a6a13857f",
   "metadata": {},
   "source": [
    "<p>I evaluated the optimized Random Forest model using the test dataset. The model achieved 90% accuracy, 91% precision, 89% recall, 90% F1 score, and a 90% AUC-ROC. The confusion matrix shows 631 true negatives, 63 false positives, 75 false negatives, and 631 true positives.</p>"
   ]
  },
  {
   "cell_type": "markdown",
   "id": "3c894773-64a2-41f3-a7c6-d0d5bc440d81",
   "metadata": {},
   "source": [
    "#### Feature importance"
   ]
  },
  {
   "cell_type": "code",
   "execution_count": 16,
   "id": "496c1455-3b98-4013-8a68-a1ba9e7d9fe7",
   "metadata": {},
   "outputs": [
    {
     "name": "stdout",
     "output_type": "stream",
     "text": [
      "Price: 0.4357\n",
      "PreviousSalePrice: 0.1627\n",
      "SquareFootage: 0.0511\n",
      "RenovationQuality: 0.0389\n",
      "NumBathrooms: 0.0352\n",
      "SchoolRating: 0.0291\n",
      "DistanceToCityCenter: 0.0265\n",
      "CrimeRate: 0.0252\n",
      "AgeOfHome: 0.0249\n",
      "BackyardSpace: 0.0247\n",
      "LocalAmenities: 0.0245\n",
      "TransportAccess: 0.0242\n",
      "PropertyTaxRate: 0.0231\n",
      "EmploymentRate: 0.0224\n",
      "NumBedrooms: 0.0198\n",
      "Windows: 0.0179\n",
      "HouseColor: 0.0069\n",
      "Fireplace: 0.0028\n",
      "Garage: 0.0027\n",
      "Floors: 0.0018\n"
     ]
    }
   ],
   "source": [
    "#getting features importances\n",
    "importances = best_rf_model.feature_importances_\n",
    "\n",
    "#pairing feature names with their importance values\n",
    "feature_importance = sorted(zip(X_train.columns, importances), key=lambda x: x[1], reverse=True)\n",
    "\n",
    "#printing top features\n",
    "for feature, importance in feature_importance:\n",
    "    print(f\"{feature}: {importance:.4f}\")"
   ]
  },
  {
   "cell_type": "markdown",
   "id": "5410d8df-16cd-4ffe-8ffe-ac8e983a1d94",
   "metadata": {},
   "source": [
    "<p>In this code, I used the feature_importances_ method to get the feature importance scores from the trained Random Forest model. These scores show how much each feature contributes to the model's predictions. Price is the most important feature, with a score of 0.4357, suggesting that luxury homes usually have much higher prices. The second most important feature is PreviousSalePrice, with a score of 0.1627, meaning homes with a history of high sale prices are more likely to be classified as luxury, even if their current value has changed. SquareFootage ranks third with a score of 0.0511, showing that larger homes are more likely to be seen as luxury. RenovationQuality ranks fourth with a score of 0.0389, showing that homes with high-quality renovations are more likely to be luxury. On the other hand, features like Fireplace, Garage, and Floors have very low importance scores, indicating they have little effect on the model's predictions. </p>"
   ]
  },
  {
   "cell_type": "markdown",
   "id": "854ea7c8-1ecd-48bd-9f64-dee164918e26",
   "metadata": {},
   "source": [
    "### F1. Compare and discuss the metrics of accuracy, precision, recall, F1 score, and AUC-ROC from the use of the optimized model on the test dataset and the initial model on the training dataset to evaluate the performance of the optimized model"
   ]
  },
  {
   "cell_type": "markdown",
   "id": "ee7f0189-6017-435f-bd7f-beb221939ed6",
   "metadata": {},
   "source": [
    "<p>Here I will compare and discuss the metrics between the initial Random Forest model that was evaluated on the validation dataset and the optimized Random Forest model that was evaluated on the test dataset. Both models achieved 90% accuracy, meaning they correctly predicted luxury and non-luxury homes 90% of the time. This shows that the model generalizes well and maintains strong performance even after hyperparameter tuning. Precision improved slightly from 90% to 91%, suggesting the optimized model is a bit better at correctly identifying luxury homes without misclassifying non-luxury ones. Recall dropped slightly from 90% to 89%, meaning the optimized model missed slightly more actual luxury homes compared to the initial model. The F1 score remained at 90% for both models, showing a good balance between precision and recall. The AUC-ROC also remained at 90%, indicating both models are equally good at distinguishing between luxury and non-luxury homes across different thresholds. The confusion matrices for both models show similar distributions of true positives, true negatives, false positives, and false negatives, which supports the overall consistency in performance.</p>\n",
    "\n",
    "<p>Overall, the optimized Random Forest model performs very similarly to the initial model, with only small changes in precision and recall. The consistent scores across accuracy, precision, recall, F1 score, and AUC-ROC on both the validation and test datasets show that the model is reliable, generalizes well to new data, and is not overfitting. The slight increase in precision and stable F1 score suggests that hyperparameter tuning helped the model improve slightly in identifying luxury homes while still maintaining strong overall performance.</p>"
   ]
  },
  {
   "cell_type": "markdown",
   "id": "acdd772f-df54-4218-adfc-e1af72d834ff",
   "metadata": {},
   "source": [
    "### F2. Discuss the results and implications of your classification analysis"
   ]
  },
  {
   "cell_type": "markdown",
   "id": "497bbef9-7344-4e4c-b5cb-522f6ca93635",
   "metadata": {},
   "source": [
    "<p>The classification analysis using a Random Forest model produced strong and consistent results. Both the initial and optimized models reached 90% accuracy and showed high precision, recall, F1 score, and AUC-ROC. This means the model is very effective at distinguishing between luxury and non-luxury homes based on housing and neighborhood features. The model's performance remained stable even after hyperparameter tuning and testing on new data, which shows it generalizes well and is not overfitting.</p>\n",
    "\n",
    "<p>The feature importance analysis showed that price, previous sale price, square footage, and renovation quality are the most influential factors in determining whether a home is considered luxury. This matches real-world trends, where luxury homes are usually larger, more expensive, and better maintained or upgraded. On the other hand, features like fireplace, garage, and number of floors had little effect on the model's predictions.</p>\n",
    "\n",
    "<p>The analysis has several important implications. First, the model's strong performance shows it can reliably classify homes as luxury or not based on their features, reducing the need for manual labeling and helping real estate platforms make faster decisions. Second, by revealing which features matter most, such as price, previous sale price, square footage, and renovation quality, real estate agencies can better understand what defines a luxury home and use that insight to guide pricing, marketing, and home improvement decisions. Third, builders and developers can use these insights to prioritize features in new homes or renovations that appeal to high-end buyers.</p>"
   ]
  },
  {
   "cell_type": "markdown",
   "id": "29da7fab-6b74-4bee-b80f-e12bc7207f27",
   "metadata": {},
   "source": [
    "### F3. Discuss one limitation of your data analysis"
   ]
  },
  {
   "cell_type": "markdown",
   "id": "a222cbb3-2dc5-40b1-b4c4-7870147ed823",
   "metadata": {},
   "source": [
    "<p>One limitation of this data analysis is that the model can only use the features provided in the dataset. While the data includes many important housing and neighborhood features, it may be missing other key factors that affect whether a home is considered luxury, such as interior design, view, or smart home features. Because these were not included, the model might not fully capture everything that makes a home \"luxury\". As a result, the model's predictions may not work well in real-life situations where other details also play an important role.</p>"
   ]
  },
  {
   "cell_type": "markdown",
   "id": "55873447-494d-43bc-b2e7-57ce0e547d4c",
   "metadata": {},
   "source": [
    "### F4. Recommend a course of action for the real-world organizational situation from part B1 based on your results and implications discussed in part F2"
   ]
  },
  {
   "cell_type": "markdown",
   "id": "e84518f9-7175-47a8-a063-ded96768c030",
   "metadata": {},
   "source": [
    "<p>Based on the results of the classification analysis, I recommend that real estate agencies use the Random Forest model to automatically classify homes as luxury or not based on their features. Since the model showed strong and consistent performance across accuracy, precision, recall, and AUC-ROC, it can reliably make these classifications without manual work. This can save time and help real estate agencies make faster, data-driven decisions when listing or marketing homes.</p>\n",
    "\n",
    "<p>In addition, real estate agencies should use the feature importance insights to improve pricing and marketing strategies. Since features like price, previous sale price, square footage, and renovation quality had the most impact on predicting luxury homes, these should be highlighted in property listings and advertisements. Builders and developers can also use these insights to focus on features that make homes more likely to be seen as luxury. </p>"
   ]
  },
  {
   "cell_type": "markdown",
   "id": "f07157ef-baba-43c3-a6e2-2362aae71e6b",
   "metadata": {},
   "source": [
    "### G. Panopto Video\n",
    "\n",
    "<p>Skip for now</p>"
   ]
  },
  {
   "cell_type": "markdown",
   "id": "47de39d6-d272-4903-a8fd-d7f1f2ff1d49",
   "metadata": {},
   "source": [
    "### H. Record the web sources used to acquire data or segments of third-party code to support the analysis. Ensure the web sources are reliable\n",
    "\n",
    "<p>Skip for now</p>"
   ]
  },
  {
   "cell_type": "markdown",
   "id": "f3b907b7-dbf2-4c36-b073-0070387cf55a",
   "metadata": {},
   "source": [
    "### I. Acknowledge sources, using in-text citations and references, for content that is quoted, paraphrased, or summarized\n",
    "\n",
    "<p>Skip for now</p>"
   ]
  },
  {
   "cell_type": "code",
   "execution_count": 19,
   "id": "532403ee-4eb1-4788-8685-01aa8b91623f",
   "metadata": {},
   "outputs": [
    {
     "data": {
      "image/png": "[encoded data removed]",
      "text/plain": [
       "<Figure size 1000x600 with 1 Axes>"
      ]
     },
     "metadata": {},
     "output_type": "display_data"
    }
   ],
   "source": [
    "# Assuming you already have the feature importances and feature names\n",
    "importances = best_rf_model.feature_importances_\n",
    "feature_names = X_train.columns\n",
    "\n",
    "# Create DataFrame\n",
    "feature_importance_df = pd.DataFrame({\n",
    "    'Feature': feature_names,\n",
    "    'Importance': importances\n",
    "})\n",
    "\n",
    "# Sort by importance\n",
    "feature_importance_df = feature_importance_df.sort_values(by='Importance', ascending=False)\n",
    "\n",
    "# Only take the top 10 features (optional)\n",
    "top_features = feature_importance_df\n",
    "\n",
    "# Fancy Plot\n",
    "plt.figure(figsize=(10, 6))\n",
    "bars = plt.barh(top_features['Feature'], top_features['Importance'], color='skyblue', edgecolor='black')\n",
    "\n",
    "# Add value labels at the end of each bar\n",
    "for bar in bars:\n",
    "    plt.text(bar.get_width() + 0.005, bar.get_y() + bar.get_height()/2,\n",
    "             f\"{bar.get_width():.2f}\", va='center', fontsize=9)\n",
    "\n",
    "plt.gca().invert_yaxis()  # Highest on top\n",
    "plt.title('Top 10 Most Important Features for Predicting Luxury Homes', fontsize=16)\n",
    "plt.xlabel('Importance Score', fontsize=12)\n",
    "plt.ylabel('Feature', fontsize=12)\n",
    "plt.grid(axis='x', linestyle='--', alpha=0.6)\n",
    "\n",
    "plt.tight_layout()\n",
    "plt.show()"
   ]
  },
  {
   "cell_type": "code",
   "execution_count": 21,
   "id": "52b70987-5f8f-44d0-9732-9220e3f6394a",
   "metadata": {},
   "outputs": [
    {
     "data": {
      "image/png": "[encoded data removed]",
      "text/plain": [
       "<Figure size 800x500 with 1 Axes>"
      ]
     },
     "metadata": {},
     "output_type": "display_data"
    }
   ],
   "source": [
    "import matplotlib.pyplot as plt\n",
    "\n",
    "# Define the metrics and their scores\n",
    "metrics = ['Accuracy', 'Precision', 'Recall', 'F1 Score', 'AUC-ROC']\n",
    "scores = [0.90, 0.91, 0.89, 0.90, 0.90]\n",
    "\n",
    "# Create the bar chart\n",
    "plt.figure(figsize=(8, 5))\n",
    "plt.bar(metrics, scores)\n",
    "plt.ylim(0, 1)  # Set y-axis range from 0 to 1\n",
    "plt.title('Performance Metrics of Optimized Random Forest Model', fontsize=14)\n",
    "plt.ylabel('Score', fontsize=12)\n",
    "plt.xlabel('Metric', fontsize=12)\n",
    "plt.grid(axis='y', linestyle='--', alpha=0.7)\n",
    "\n",
    "# Add the value labels on top of the bars\n",
    "for i, v in enumerate(scores):\n",
    "    plt.text(i, v + 0.02, f\"{v:.2f}\", ha='center', fontsize=10)\n",
    "\n",
    "plt.tight_layout()\n",
    "plt.show()"
   ]
  },
  {
   "cell_type": "code",
   "execution_count": null,
   "id": "55d3e3a5-19da-40f1-bfaf-c8899bcfae02",
   "metadata": {},
   "outputs": [],
   "source": []
  }
 ],
 "metadata": {
  "kernelspec": {
   "display_name": "Python 3 (ipykernel)",
   "language": "python",
   "name": "python3"
  },
  "language_info": {
   "codemirror_mode": {
    "name": "ipython",
    "version": 3
   },
   "file_extension": ".py",
   "mimetype": "text/x-python",
   "name": "python",
   "nbconvert_exporter": "python",
   "pygments_lexer": "ipython3",
   "version": "3.11.7"
  }
 },
 "nbformat": 4,
 "nbformat_minor": 5
}
